{
 "cells": [
  {
   "cell_type": "code",
   "execution_count": 1,
   "metadata": {
    "collapsed": true
   },
   "outputs": [],
   "source": [
    "import matplotlib.pyplot as plt\n",
    "import numpy as np\n",
    "import pandas as pd"
   ]
  },
  {
   "cell_type": "code",
   "execution_count": 37,
   "metadata": {
    "collapsed": false
   },
   "outputs": [],
   "source": [
    "plt.figure()\n",
    "\n",
    "list_nLayer = [-5,-4,-3,-2,-1,0]\n",
    "labels = ['layer n'+str(i) for i in list_nLayer]\n",
    "labels[len(labels)-1] = 'layer n'\n",
    "\n",
    "a = np.genfromtxt('TME2-3-Deep/cnns/AP_cnns.csv',delimiter=' ')\n",
    "#list_nLayer = a[:,0]\n",
    "list_AP = a[:,1:]\n",
    "list_AP.sum(axis=1)\n",
    "x = list_nLayer\n",
    "plt.plot(x, list_AP.sum(axis=1), label='CNN-S')\n",
    "\n",
    "a = np.genfromtxt('TME2-3-Deep/cnnm/AP_cnnm.csv',delimiter=' ')\n",
    "#list_nLayer = a[:,0]\n",
    "list_AP = a[:,1:]\n",
    "list_AP.sum(axis=1)\n",
    "x = list_nLayer\n",
    "plt.plot(x, list_AP.sum(axis=1), label='CNN-M')\n",
    "\n",
    "a = np.genfromtxt('TME2-3-Deep/cnnf/AP_cnnf.csv',delimiter=' ')\n",
    "#list_nLayer = a[:,0]\n",
    "list_AP = a[:,1:]\n",
    "list_AP.sum(axis=1)\n",
    "x = list_nLayer\n",
    "plt.plot(x, list_AP.sum(axis=1), label='CNN-F')\n",
    "\n",
    "plt.xticks(x, labels)#, rotation='vertical')\n",
    "plt.legend(loc=4)\n",
    "\n",
    "plt.show()"
   ]
  },
  {
   "cell_type": "code",
   "execution_count": 55,
   "metadata": {
    "collapsed": false
   },
   "outputs": [
    {
     "data": {
      "text/plain": [
       "['aeroplane',\n",
       " 'bicycle',\n",
       " 'bird',\n",
       " 'boat',\n",
       " 'bottle',\n",
       " 'bus',\n",
       " 'car',\n",
       " 'cat',\n",
       " 'chair',\n",
       " 'cow',\n",
       " 'diningtable',\n",
       " 'dog',\n",
       " 'horse',\n",
       " 'motorbike',\n",
       " 'person',\n",
       " 'pottedplant',\n",
       " 'sheep',\n",
       " 'sofa',\n",
       " 'train',\n",
       " 'tvmonitor']"
      ]
     },
     "execution_count": 55,
     "metadata": {},
     "output_type": "execute_result"
    }
   ],
   "source": [
    "l=20\n",
    "df = pd.read_csv('TME2-3-Deep/cnnm/cval'+str(l)+'.csv', sep=' ', names=['classname','C', 'AP', 'accuracy'])\n",
    "df.classname.unique().tolist()"
   ]
  },
  {
   "cell_type": "code",
   "execution_count": 56,
   "metadata": {
    "collapsed": true
   },
   "outputs": [],
   "source": [
    "plt.figure()    \n",
    "l=20\n",
    "df = pd.read_csv('TME2-3-Deep/cnnm/cval'+str(l)+'.csv', sep=' ', names=['classname','C', 'AP', 'accuracy'])\n",
    "\n",
    "for cname in df.classname.unique().tolist():\n",
    "    x = df[df.classname == cname].C.values\n",
    "    y = df[df.classname == cname].AP.values\n",
    "    plt.plot(y, label=cname)\n",
    "    plt.xticks(range(y.shape[0]), x)  \n",
    "    plt.legend(loc=2)\n",
    "\n",
    "plt.show()"
   ]
  },
  {
   "cell_type": "code",
   "execution_count": 53,
   "metadata": {
    "collapsed": false
   },
   "outputs": [],
   "source": [
    "\n",
    "plt.figure()    \n",
    "for l in xrange(16,22):\n",
    "    df = pd.read_csv('TME2-3-Deep/cnnm/cval'+str(l)+'.csv', sep=' ', names=['classname','C', 'AP', 'accuracy'])\n",
    "    x = df[df.classname == 'aeroplane'].C.values\n",
    "    y = df[df.classname == 'aeroplane'].AP.values\n",
    "    plt.plot(y, label=\"layer \"+str(l))\n",
    "    plt.xticks(range(y.shape[0]), x)    \n",
    "    plt.legend(loc=0)\n",
    "\n",
    "plt.show()"
   ]
  },
  {
   "cell_type": "code",
   "execution_count": null,
   "metadata": {
    "collapsed": true
   },
   "outputs": [],
   "source": []
  }
 ],
 "metadata": {
  "kernelspec": {
   "display_name": "Python 2",
   "language": "python",
   "name": "python2"
  },
  "language_info": {
   "codemirror_mode": {
    "name": "ipython",
    "version": 2
   },
   "file_extension": ".py",
   "mimetype": "text/x-python",
   "name": "python",
   "nbconvert_exporter": "python",
   "pygments_lexer": "ipython2",
   "version": "2.7.9"
  }
 },
 "nbformat": 4,
 "nbformat_minor": 0
}
