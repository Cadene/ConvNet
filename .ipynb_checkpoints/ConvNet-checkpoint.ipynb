{
 "cells": [
  {
   "cell_type": "code",
   "execution_count": 1,
   "metadata": {
    "collapsed": true
   },
   "outputs": [],
   "source": [
    "import matplotlib.pyplot as plt\n",
    "import numpy as np\n",
    "import pandas as pd"
   ]
  },
  {
   "cell_type": "code",
   "execution_count": 10,
   "metadata": {
    "collapsed": false
   },
   "outputs": [
    {
     "name": "stdout",
     "output_type": "stream",
     "text": [
      "[ 0.72212285  0.7594686   0.75183125  0.770637    0.7614029   0.69140825]\n",
      "[ 0.72779525  0.7586458   0.7537681   0.77131205  0.7579603   0.6902592 ]\n",
      "[ 0.65946155  0.72365015  0.71149185  0.7359188   0.72745205  0.6637953 ]\n"
     ]
    }
   ],
   "source": [
    "plt.figure()\n",
    "\n",
    "list_nLayer = [-5,-4,-3,-2,-1,0]\n",
    "labels = ['layer n'+str(i) for i in list_nLayer]\n",
    "labels[len(labels)-1] = 'layer n'\n",
    "\n",
    "a = np.genfromtxt('cnns/AP_cnns.csv',delimiter=' ')\n",
    "#list_nLayer = a[:,0]\n",
    "list_AP = a[:,1:]\n",
    "print(list_AP.mean(axis=1))\n",
    "x = list_nLayer\n",
    "plt.plot(x, list_AP.mean(axis=1), label='CNN-S')\n",
    "\n",
    "a = np.genfromtxt('cnnm/AP_cnnm.csv',delimiter=' ')\n",
    "#list_nLayer = a[:,0]\n",
    "list_AP = a[:,1:]\n",
    "print(list_AP.mean(axis=1))\n",
    "x = list_nLayer\n",
    "plt.plot(x, list_AP.mean(axis=1), label='CNN-M')\n",
    "\n",
    "a = np.genfromtxt('cnnf/AP_cnnf.csv',delimiter=' ')\n",
    "#list_nLayer = a[:,0]\n",
    "list_AP = a[:,1:]\n",
    "print(list_AP.mean(axis=1))\n",
    "x = list_nLayer\n",
    "plt.plot(x, list_AP.mean(axis=1), label='CNN-F')\n",
    "\n",
    "plt.xticks(x, labels)#, rotation='vertical')\n",
    "plt.legend(loc=4)\n",
    "\n",
    "plt.show()"
   ]
  },
  {
   "cell_type": "code",
   "execution_count": 4,
   "metadata": {
    "collapsed": true
   },
   "outputs": [],
   "source": [
    "a = np.genfromtxt('cnnm/AP_cnnm.csv',delimiter=' ')"
   ]
  },
  {
   "cell_type": "code",
   "execution_count": 8,
   "metadata": {
    "collapsed": false
   },
   "outputs": [
    {
     "data": {
      "text/plain": [
       "array([ 0.65946155,  0.72365015,  0.71149185,  0.7359188 ,  0.72745205,\n",
       "        0.6637953 ])"
      ]
     },
     "execution_count": 8,
     "metadata": {},
     "output_type": "execute_result"
    }
   ],
   "source": [
    "a[:,1:].mean(axis=1)"
   ]
  },
  {
   "cell_type": "code",
   "execution_count": 55,
   "metadata": {
    "collapsed": false
   },
   "outputs": [
    {
     "data": {
      "text/plain": [
       "['aeroplane',\n",
       " 'bicycle',\n",
       " 'bird',\n",
       " 'boat',\n",
       " 'bottle',\n",
       " 'bus',\n",
       " 'car',\n",
       " 'cat',\n",
       " 'chair',\n",
       " 'cow',\n",
       " 'diningtable',\n",
       " 'dog',\n",
       " 'horse',\n",
       " 'motorbike',\n",
       " 'person',\n",
       " 'pottedplant',\n",
       " 'sheep',\n",
       " 'sofa',\n",
       " 'train',\n",
       " 'tvmonitor']"
      ]
     },
     "execution_count": 55,
     "metadata": {},
     "output_type": "execute_result"
    }
   ],
   "source": [
    "l=20\n",
    "df = pd.read_csv('TME2-3-Deep/cnnm/cval'+str(l)+'.csv', sep=' ', names=['classname','C', 'AP', 'accuracy'])\n",
    "df.classname.unique().tolist()"
   ]
  },
  {
   "cell_type": "code",
   "execution_count": 56,
   "metadata": {
    "collapsed": true
   },
   "outputs": [],
   "source": [
    "plt.figure()    \n",
    "l=20\n",
    "df = pd.read_csv('TME2-3-Deep/cnnm/cval'+str(l)+'.csv', sep=' ', names=['classname','C', 'AP', 'accuracy'])\n",
    "\n",
    "for cname in df.classname.unique().tolist():\n",
    "    x = df[df.classname == cname].C.values\n",
    "    y = df[df.classname == cname].AP.values\n",
    "    plt.plot(y, label=cname)\n",
    "    plt.xticks(range(y.shape[0]), x)  \n",
    "    plt.legend(loc=2)\n",
    "\n",
    "plt.show()"
   ]
  },
  {
   "cell_type": "code",
   "execution_count": 53,
   "metadata": {
    "collapsed": false
   },
   "outputs": [],
   "source": [
    "\n",
    "plt.figure()    \n",
    "for l in xrange(16,22):\n",
    "    df = pd.read_csv('TME2-3-Deep/cnnm/cval'+str(l)+'.csv', sep=' ', names=['classname','C', 'AP', 'accuracy'])\n",
    "    x = df[df.classname == 'aeroplane'].C.values\n",
    "    y = df[df.classname == 'aeroplane'].AP.values\n",
    "    plt.plot(y, label=\"layer \"+str(l))\n",
    "    plt.xticks(range(y.shape[0]), x)    \n",
    "    plt.legend(loc=0)\n",
    "\n",
    "plt.show()"
   ]
  },
  {
   "cell_type": "code",
   "execution_count": 2,
   "metadata": {
    "collapsed": true
   },
   "outputs": [],
   "source": [
    "hw = [[109,109,96],\n",
    "     [109,109,96],\n",
    "     [109,109,96],\n",
    "     [54,54,96],\n",
    "     [26,26,256],\n",
    "     [26,26,256],\n",
    "     [26,26,256],\n",
    "     [13,13,256],\n",
    "     [13,13,512],\n",
    "     [13,13,512],\n",
    "     [13,13,512],\n",
    "     [13,13,512],\n",
    "     [13,13,512],\n",
    "     [13,13,512],\n",
    "     [6,6,512]]"
   ]
  },
  {
   "cell_type": "code",
   "execution_count": 4,
   "metadata": {
    "collapsed": false
   },
   "outputs": [],
   "source": [
    "for l in xrange(15):\n",
    "\n",
    "    plt.figure()\n",
    "    if hw[l][2] == 96:\n",
    "        weight = 12\n",
    "        height = 8\n",
    "    elif hw[l][2] == 256:\n",
    "        weight = 16\n",
    "        height = 16\n",
    "    elif hw[l][2] == 512:\n",
    "        weight = 32\n",
    "        height = 16\n",
    "    output = np.zeros((hw[l][0]*height,hw[l][1]*weight))\n",
    "    for i in xrange(height):\n",
    "        for j in xrange(weight):\n",
    "            id = (i*weight)+(j+1)\n",
    "            fname = \"visu/layer\"+str(l+1)+\"/featmap_layer\"+str(l+1)+\"_\"+str(id)+\".png\"\n",
    "            output[hw[l][0]*i:hw[l][0]*(i+1),hw[l][1]*j:hw[l][1]*(j+1)] = plt.imread(fname)\n",
    "\n",
    "    #plt.imshow(output, cmap=plt.cm.gray)\n",
    "    plt.imsave(fname=\"featmap_layer\"+str(l+1), arr=output, cmap=plt.cm.gray)"
   ]
  },
  {
   "cell_type": "code",
   "execution_count": 9,
   "metadata": {
    "collapsed": true
   },
   "outputs": [],
   "source": [
    "l = 12\n",
    "id = 1\n",
    "fname = \"visu/layer\"+str(l+1)+\"/featmap_layer\"+str(l+1)+\"_\"+str(id)+\".png\"\n",
    "a = plt.imread(fname)"
   ]
  },
  {
   "cell_type": "code",
   "execution_count": 10,
   "metadata": {
    "collapsed": false
   },
   "outputs": [
    {
     "data": {
      "text/plain": [
       "array([[ 0.43529412,  0.40784314,  0.41960785,  0.40392157,  0.39215687,\n",
       "         0.3882353 ,  0.40784314,  0.43921569,  0.45882353,  0.48235294,\n",
       "         0.49019608,  0.4509804 ,  0.45490196],\n",
       "       [ 0.41176471,  0.43921569,  0.43921569,  0.41176471,  0.38039216,\n",
       "         0.35294119,  0.38039216,  0.40392157,  0.41568628,  0.43529412,\n",
       "         0.45490196,  0.41960785,  0.43921569],\n",
       "       [ 0.40000001,  0.39215687,  0.3764706 ,  0.37254903,  0.31764707,\n",
       "         0.22745098,  0.25490198,  0.29803923,  0.26274511,  0.25882354,\n",
       "         0.34901962,  0.40784314,  0.40392157],\n",
       "       [ 0.38431373,  0.32941177,  0.25490198,  0.25490198,  0.25490198,\n",
       "         0.14117648,  0.12941177,  0.15686275,  0.13333334,  0.16862746,\n",
       "         0.27058825,  0.32549021,  0.32156864],\n",
       "       [ 0.37254903,  0.30588236,  0.19607843,  0.2       ,  0.27450982,\n",
       "         0.26274511,  0.24705882,  0.27058825,  0.28235295,  0.30588236,\n",
       "         0.28627452,  0.2       ,  0.18039216],\n",
       "       [ 0.38431373,  0.33333334,  0.30588236,  0.32549021,  0.3764706 ,\n",
       "         0.29411766,  0.16470589,  0.19215687,  0.28235295,  0.29803923,\n",
       "         0.25490198,  0.17647059,  0.19215687],\n",
       "       [ 0.3137255 ,  0.24705882,  0.30980393,  0.38039216,  0.34509805,\n",
       "         0.14901961,  0.        ,  0.08627451,  0.24705882,  0.27450982,\n",
       "         0.22745098,  0.22745098,  0.29803923],\n",
       "       [ 0.20392157,  0.09019608,  0.16078432,  0.23921569,  0.21960784,\n",
       "         0.11764706,  0.07843138,  0.19215687,  0.3137255 ,  0.29019609,\n",
       "         0.27843139,  0.30980393,  0.41176471],\n",
       "       [ 0.21568628,  0.16862746,  0.12156863,  0.09803922,  0.16470589,\n",
       "         0.25098041,  0.32156864,  0.37254903,  0.37254903,  0.28627452,\n",
       "         0.25490198,  0.23137255,  0.3019608 ],\n",
       "       [ 0.21176471,  0.17647059,  0.16470589,  0.11372549,  0.11372549,\n",
       "         0.26274511,  0.38431373,  0.39607844,  0.35686275,  0.29803923,\n",
       "         0.1882353 ,  0.04705882,  0.06666667],\n",
       "       [ 0.15294118,  0.10196079,  0.1882353 ,  0.17254902,  0.16078432,\n",
       "         0.24705882,  0.3019608 ,  0.32156864,  0.29019609,  0.22352941,\n",
       "         0.17254902,  0.10196079,  0.18431373],\n",
       "       [ 0.23921569,  0.20784314,  0.24313726,  0.24705882,  0.23529412,\n",
       "         0.25490198,  0.24313726,  0.23921569,  0.20392157,  0.17647059,\n",
       "         0.1882353 ,  0.19607843,  0.32941177],\n",
       "       [ 0.3764706 ,  0.30980393,  0.33333334,  0.30980393,  0.32156864,\n",
       "         0.34901962,  0.34901962,  0.32941177,  0.29803923,  0.29019609,\n",
       "         0.29803923,  0.30980393,  0.40784314]], dtype=float32)"
      ]
     },
     "execution_count": 10,
     "metadata": {},
     "output_type": "execute_result"
    }
   ],
   "source": [
    "a"
   ]
  },
  {
   "cell_type": "code",
   "execution_count": null,
   "metadata": {
    "collapsed": true
   },
   "outputs": [],
   "source": []
  }
 ],
 "metadata": {
  "kernelspec": {
   "display_name": "Python 2",
   "language": "python",
   "name": "python2"
  },
  "language_info": {
   "codemirror_mode": {
    "name": "ipython",
    "version": 2
   },
   "file_extension": ".py",
   "mimetype": "text/x-python",
   "name": "python",
   "nbconvert_exporter": "python",
   "pygments_lexer": "ipython2",
   "version": "2.7.10"
  }
 },
 "nbformat": 4,
 "nbformat_minor": 0
}
